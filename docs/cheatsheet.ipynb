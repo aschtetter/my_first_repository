{
 "cells": [
  {
   "cell_type": "code",
   "execution_count": null,
   "id": "46e5c2d6-d623-4337-bda5-d23eef2bf506",
   "metadata": {},
   "outputs": [],
   "source": [
    "from pyqgis_scripting_ext.core import *"
   ]
  },
  {
   "cell_type": "markdown",
   "id": "ef1d34c4-1fe0-4732-93a8-35f7196bce79",
   "metadata": {},
   "source": [
    "# Create Geometries"
   ]
  },
  {
   "cell_type": "code",
   "execution_count": null,
   "id": "4607847e-4660-44bc-9e5b-14fc54f7fae9",
   "metadata": {},
   "outputs": [],
   "source": [
    "point = HPoint(30.0,10.0)\n",
    "print(point.asWkt())\n",
    "\n",
    "coords = [[20,30],[30,40],[10,5],[30,20]]\n",
    "line = HLineString.fromCoord(coords)\n",
    "\n",
    "coords = [[20,30],[30,40],[10,5],[30,20],[20,30]]\n",
    "polygon = HPolygon.fromCoords(coords)\n",
    "\n",
    "extPoints = [[20,30],[30,40],[10,5],[30,20],[20,30]]\n",
    "holePoints = [[21,29],[...]\n",
    "\n",
    "polygonWithHole = HPolygon.fomCoords(extPoints)\n",
    "holleRing = HLineString.fromCoords(holePoints)\n",
    "polygonWithHole.add_interior_ring(hollering)"
   ]
  },
  {
   "cell_type": "markdown",
   "id": "29be70cf-5459-4c14-9633-f7b11f779ffc",
   "metadata": {},
   "source": [
    "## Multigeometries"
   ]
  },
  {
   "cell_type": "code",
   "execution_count": null,
   "id": "04aa1282-0fa8-4a7a-8698-75eff5c30bdc",
   "metadata": {},
   "outputs": [],
   "source": [
    "coords = [[20,30],[30,40],[10,5],[30,20]]\n",
    "MultiPoints = HMultiPoint.fromCoords(cords)\n",
    "\n",
    "coords1 = [[20,30],[30,40],[10,5],[30,20]]\n",
    "coords2 = [[21,29],[...]]\n",
    "multiline = HMultiLineString.fromCoords([coords2],[coords2])\n",
    "\n",
    "Multipolygon = HMultiPolygon.fromCoords([coords1, coords2])"
   ]
  },
  {
   "cell_type": "markdown",
   "id": "9976f8dc-89e6-4e97-8020-461aa903e445",
   "metadata": {},
   "source": [
    "## Subgeometries and Coordinates"
   ]
  },
  {
   "cell_type": "code",
   "execution_count": null,
   "id": "54c05c68-dee1-4e64-964e-a5c833b2b6bb",
   "metadata": {},
   "outputs": [],
   "source": [
    "subGeometries = multiPolygon.geometries()\n",
    "for I in range(len(subGeometries)):\n",
    "\tchild = subGeometries[i]\n",
    "\tprint(f”polygon at position {i} = {child.asWkt()}”)"
   ]
  },
  {
   "cell_type": "markdown",
   "id": "c86053ec-9ec0-4eb1-9394-c0ee6633bef9",
   "metadata": {},
   "source": [
    "## Access Coordinates"
   ]
  },
  {
   "cell_type": "code",
   "execution_count": null,
   "id": "6c5b9cfa-4ce8-445c-8194-b646bcd69d02",
   "metadata": {},
   "outputs": [],
   "source": [
    "for i, coordinate in enumerate(polygon.coordinates()):\n",
    "\tprint(f”coord {i} x ={coordinate[0]}, y={ coordinate[1]}”)"
   ]
  }
 ],
 "metadata": {
  "kernelspec": {
   "display_name": "Python 3 (ipykernel)",
   "language": "python",
   "name": "python3"
  },
  "language_info": {
   "codemirror_mode": {
    "name": "ipython",
    "version": 3
   },
   "file_extension": ".py",
   "mimetype": "text/x-python",
   "name": "python",
   "nbconvert_exporter": "python",
   "pygments_lexer": "ipython3",
   "version": "3.11.7"
  }
 },
 "nbformat": 4,
 "nbformat_minor": 5
}
