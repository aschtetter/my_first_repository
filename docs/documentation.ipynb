{
 "cells": [
  {
   "cell_type": "markdown",
   "id": "16f5e27b-68f1-4bde-9460-acebe514a708",
   "metadata": {},
   "source": [
    "# LISTS"
   ]
  },
  {
   "cell_type": "code",
   "execution_count": null,
   "id": "e9d8834f-4fca-422d-883a-debc48bbb21d",
   "metadata": {},
   "outputs": [],
   "source": [
    "mylist = [\"Merano\", \"Bolzano\", \"Trento\"]\n",
    "print(\"The elements start at position 0: \" + mylist[0])\n",
    "\n",
    "mylist.append(\"Potsdam\") # add an element at the end of list\n",
    "mylist.remove(\"Potsdam\") # remove element by object\n",
    "mylist.pop(0) # remove element by index\n",
    "\n",
    "doIHaveBolzano = \"Bolzano\" in mylist # check if an element is in a list, in operator\n",
    "print(doIHaveBolzano)"
   ]
  },
  {
   "cell_type": "markdown",
   "id": "49a80753-2d7c-4eba-8282-489861064043",
   "metadata": {},
   "source": [
    "## Looping over lists\n",
    "If an index is necessary, we can use a \"range\" and the \"len\" function."
   ]
  },
  {
   "cell_type": "code",
   "execution_count": 4,
   "id": "e019c81e-5089-43e2-afcd-2f387d5c8118",
   "metadata": {},
   "outputs": [
    {
     "name": "stdout",
     "output_type": "stream",
     "text": [
      "red -> 0.2\n",
      "green -> 0.3\n",
      "blue -> 0.1\n",
      "purple -> 0.4\n"
     ]
    }
   ],
   "source": [
    "colors = [\"red\", \"green\", \"blue\", \"purple\"]\n",
    "ratios = [0.2, 0.3, 0.1, 0.4]\n",
    "\n",
    "for index in range(len(colors)):\n",
    "    ratio = ratios[index]\n",
    "    color = colors[index]\n",
    "    print(f\"{color} -> {ratio}\")"
   ]
  },
  {
   "cell_type": "markdown",
   "id": "998fda95-b66e-45b7-a14e-19b8b2ffc3f7",
   "metadata": {},
   "source": [
    "## Break and continue"
   ]
  },
  {
   "cell_type": "code",
   "execution_count": 1,
   "id": "b0dd84dc-69be-4006-bcd0-fb72e6711440",
   "metadata": {},
   "outputs": [
    {
     "name": "stdout",
     "output_type": "stream",
     "text": [
      "A) 5\n",
      "B) 9\n"
     ]
    }
   ],
   "source": [
    "for i in range(10): # break is used to exit a loop early\n",
    "    if i == 5:\n",
    "        break\n",
    "print(f\"A) {i}\")\n",
    "\n",
    "for i in range(10): # continue is used to skip rest of code inside loop (current iteration)\n",
    "    if i == 5:\n",
    "        continue\n",
    "print(f\"B) {i}\")"
   ]
  },
  {
   "cell_type": "markdown",
   "id": "8aaf58c2-0537-4c43-b6be-162ba8cb2f50",
   "metadata": {},
   "source": [
    "## Ranges\n",
    "Ranges produce a sequence of consecutive integers."
   ]
  },
  {
   "cell_type": "code",
   "execution_count": 5,
   "id": "525faad7-f63b-42ad-b9db-ceb3c2feec73",
   "metadata": {},
   "outputs": [
    {
     "name": "stdout",
     "output_type": "stream",
     "text": [
      "A) 0\n",
      "A) 1\n",
      "A) 2\n",
      "A) 3\n",
      "A) 4\n",
      "A) 5\n",
      "A) 6\n",
      "A) 7\n",
      "A) 8\n",
      "A) 9\n"
     ]
    }
   ],
   "source": [
    "# Loop over a range form 0 to 10. Last number is not included.\n",
    "for i in range(0,10):\n",
    "    print(f\"A) {i}\")"
   ]
  },
  {
   "cell_type": "code",
   "execution_count": 7,
   "id": "6f2257f8-509b-47c5-a5ca-29772a46b433",
   "metadata": {},
   "outputs": [
    {
     "name": "stdout",
     "output_type": "stream",
     "text": [
      "B) 0\n",
      "B) 1\n",
      "B) 2\n",
      "B) 3\n",
      "B) 4\n",
      "B) 5\n",
      "B) 6\n",
      "B) 7\n",
      "B) 8\n",
      "B) 9\n"
     ]
    }
   ],
   "source": [
    "# Initial value is optional\n",
    "for i in range(10):\n",
    "    print(f\"B) {i}\")"
   ]
  },
  {
   "cell_type": "code",
   "execution_count": 6,
   "id": "35562b7b-e417-4bb0-95d8-a644b2df514e",
   "metadata": {},
   "outputs": [
    {
     "name": "stdout",
     "output_type": "stream",
     "text": [
      "C) 0\n",
      "C) 2\n",
      "C) 4\n",
      "C) 6\n",
      "C) 8\n"
     ]
    }
   ],
   "source": [
    "# Step can be set; here every second value\n",
    "for i in range(0,10,2):\n",
    "    print(f\"C) {i}\")"
   ]
  },
  {
   "cell_type": "code",
   "execution_count": null,
   "id": "73878e39-5834-46dd-a59c-bb71838479da",
   "metadata": {},
   "outputs": [],
   "source": [
    "# Also in descending order\n",
    "for i in range(10,0,-2):\n",
    "    print(f\"D) {i}\")"
   ]
  },
  {
   "cell_type": "markdown",
   "id": "5a1c8cf0-6a63-4113-9689-c660f277bd70",
   "metadata": {},
   "source": [
    "## Sorting lists\n",
    "The sort method has a key parameter used to specify a function to\n",
    "be called on each list element prior to making comparisons."
   ]
  },
  {
   "cell_type": "code",
   "execution_count": 11,
   "id": "2af85153-8bba-4eac-bd34-ea885a9a3b92",
   "metadata": {},
   "outputs": [],
   "source": [
    "mylist = [\"Merano\", \"Bolzano\", \"Trento\"]\n",
    "mylist.sort() # Alphabetically sorted\n",
    "mylist.sort(reverse = True)"
   ]
  },
  {
   "cell_type": "code",
   "execution_count": 17,
   "id": "e1d6a31b-67ef-484b-82b7-511495353628",
   "metadata": {},
   "outputs": [],
   "source": [
    "mylist = [\"banana\", \"Orange\", \"Kiwi\", \"cherry\"]\n",
    "mylist.sort() # Sorts upper case first, then lowercase\n",
    "mylist.sort(key = str.lower) # sorts alphabetically and ignores case"
   ]
  },
  {
   "cell_type": "markdown",
   "id": "819dfa52-41c3-4bef-af92-f1fd17655212",
   "metadata": {},
   "source": [
    "Lists can be merged with the plus operator.\n",
    "Lists can be concatenated to a string using separator.join(list).\n",
    "In case of numbers some functions apply."
   ]
  },
  {
   "cell_type": "code",
   "execution_count": 18,
   "id": "b8e33548-cf8b-48d6-b25d-41d4dc5b68e2",
   "metadata": {},
   "outputs": [
    {
     "name": "stdout",
     "output_type": "stream",
     "text": [
      "3.5\n",
      "1.0\n",
      "6.5\n"
     ]
    }
   ],
   "source": [
    "abc = [\"a\", \"b\", \"c\"]\n",
    "cde = [\"c\", \"d\", \"e\"]\n",
    "newabcde = abc + cde\n",
    "\n",
    "nums = [1.0, 2, 3.5]\n",
    "print( max(nums) )\n",
    "print( min(nums) )\n",
    "print( sum(nums) )"
   ]
  },
  {
   "cell_type": "markdown",
   "id": "87fc644f-2062-4e6c-8654-8a296f71023e",
   "metadata": {},
   "source": [
    "# DICTIONARIES\n",
    "A Hashmap or Dictionary is a container of key and value pairs.\n",
    "Think of it as an actual dictionary, where you have definitions (the\n",
    "value) stored under certain names (the key).\n",
    "So you can ask the dictionary for the definition of using the name.\n",
    "Mind that names/keys are case sensitive.\n",
    "Also keys are unique, so you can’t have two definitions for the same\n",
    "name. If you insert a new value for an existing key, the old value is\n",
    "overwritten."
   ]
  },
  {
   "cell_type": "markdown",
   "id": "f6cfcf01-979e-4a5e-b156-6c3264e4fb46",
   "metadata": {},
   "source": [
    "## Create, Get, Add, Remove"
   ]
  },
  {
   "cell_type": "code",
   "execution_count": 1,
   "id": "3d459824-c6bf-429c-b631-3279322c3283",
   "metadata": {},
   "outputs": [
    {
     "name": "stdout",
     "output_type": "stream",
     "text": [
      "BZ\n",
      "The key doesn't exist\n",
      "BZ\n"
     ]
    }
   ],
   "source": [
    "townsProvinceMap = {\n",
    "    \"merano\":\"BZ\", \"bolzano\":\"BZ\", \"trento\":\"TN\"\n",
    "}\n",
    "\n",
    "print(townsProvinceMap[\"merano\"]) # Get a value through its key\n",
    "townsProvinceMap[\"Potsdam\"] = \"BR\" # Add a new key/value pair\n",
    "townsProvinceMap.pop(\"Potsdam\") # Remove by key/value\n",
    "\n",
    "if townsProvinceMap.get(\"Merano\") is None: # Key doesn't exist to avoid error\n",
    "    print(\"The key doesn't exist\")\n",
    "else:\n",
    "    print(\"The key exists\")\n",
    "\n",
    "print( townsProvinceMap.get(\"merano\", \"unknown\") )"
   ]
  },
  {
   "cell_type": "markdown",
   "id": "1b0792e5-3236-45c7-a0ce-5e85fb858d92",
   "metadata": {},
   "source": [
    "## Looping Dictionaries\n",
    "Remember that a dictionary item is a key/value pair, so we need 2\n",
    "variables, but apart of that, looping is the same as for lists."
   ]
  },
  {
   "cell_type": "code",
   "execution_count": 2,
   "id": "ff0f0b1e-bfe7-4cff-aa22-ef629a10a172",
   "metadata": {},
   "outputs": [
    {
     "name": "stdout",
     "output_type": "stream",
     "text": [
      "merano is in province of BZ\n",
      "bolzano is in province of BZ\n",
      "trento is in province of TN\n"
     ]
    }
   ],
   "source": [
    "for key, value in townsProvinceMap.items():\n",
    "    print( key + \" is in province of \" + value )"
   ]
  },
  {
   "cell_type": "markdown",
   "id": "85ae0bb5-b3ba-4242-b3d7-6b53b1de6119",
   "metadata": {},
   "source": [
    "## Keys and Values\n",
    "In python, dictionaries are ordered following the insertion order. If\n",
    "sorting by key is needed, the best way to do so is to sort the keys\n",
    "and loop over them.\n",
    "Since the keys() method returns an iterable, we can’t directly sort it\n",
    "(even if we can loop over it). We need to convert it to list first."
   ]
  },
  {
   "cell_type": "code",
   "execution_count": 4,
   "id": "169d192e-efae-49e9-8e20-73e5702081cd",
   "metadata": {},
   "outputs": [
    {
     "name": "stdout",
     "output_type": "stream",
     "text": [
      "dict_keys(['merano', 'bolzano', 'trento'])\n",
      "dict_values(['BZ', 'BZ', 'TN'])\n",
      "bolzano is in province of BZ\n",
      "merano is in province of BZ\n",
      "trento is in province of TN\n"
     ]
    }
   ],
   "source": [
    "print( townsProvinceMap.keys() )\n",
    "print( townsProvinceMap.values() )\n",
    "\n",
    "towns = list(townsProvinceMap.keys()) # Convert dictionary to list to sort\n",
    "towns.sort()\n",
    "for town in towns:\n",
    "    print( town + \" is in province of \" + townsProvinceMap[town] )"
   ]
  },
  {
   "cell_type": "code",
   "execution_count": null,
   "id": "1b10f3fa-f0e8-4e3a-b511-7254e16929c9",
   "metadata": {},
   "outputs": [],
   "source": [
    "myText = \"\"\"\n",
    "We would like to know how many times\n",
    "every character appears in this text.\n",
    "\"\"\"\n",
    "charDictionary = {} # New Dictionary\n",
    "\n",
    "for character in myText.strip(): # strip removes whitespaces\n",
    "    count = charDictionary.get(character, 0) # character as key\n",
    "    count += 1\n",
    "    charDictionary[character] = count # count as value\n",
    "\n",
    "for key, value in charDictionary.items():\n",
    "    print(key, \"appears\", value, \"times.\")"
   ]
  },
  {
   "cell_type": "markdown",
   "id": "c75e451c-7660-4521-bc4e-daa6a443f866",
   "metadata": {},
   "source": [
    "# Text File"
   ]
  },
  {
   "cell_type": "markdown",
   "id": "cd38a39a-3c3b-4f0b-85ef-1830673bdc4e",
   "metadata": {},
   "source": [
    "## Writing a file\n",
    "Defining a folder and file path."
   ]
  },
  {
   "cell_type": "code",
   "execution_count": null,
   "id": "f37a87b7-c667-45bd-b4b0-6613a48fc888",
   "metadata": {},
   "outputs": [],
   "source": [
    "folder = \"C:/users/aschw/OneDrive - Scientific Network South Tyrol/\" # Define folder path\n",
    "filepath = f\"{folder}/data.txt\" # Define file path"
   ]
  },
  {
   "cell_type": "code",
   "execution_count": null,
   "id": "91f525a1-7aed-4c7f-b916-a240e8a5f6fa",
   "metadata": {},
   "outputs": [],
   "source": [
    "data = \"\"\"# station id, datetime, temperature\n",
    "    1, 2023-01-01 00:00, 12.3\n",
    "    2, 2023-01-01 00:00, 11.3\n",
    "    3, 2023-01-01 00:00, 10.3\"\"\"\n",
    "\n",
    "with open(filepath, \"w\") as file: # w stands for write\n",
    "    file.write(data)\n",
    "\n",
    "with open(filepath, \"a\") as file: # a appends to an existing file\n",
    "    file.write(\"\\n1, 2023-01-02 00:00, 9.3\")\n",
    "    file.write(\"\\n2, 2023-01-02 00:00, 8.3\")"
   ]
  },
  {
   "cell_type": "markdown",
   "id": "9397a769-90df-4f1e-b4ac-fece46ed6493",
   "metadata": {},
   "source": [
    "## Reading a file, parsing data"
   ]
  },
  {
   "cell_type": "code",
   "execution_count": null,
   "id": "ce24c7af-d898-47fd-be57-227719215fe5",
   "metadata": {},
   "outputs": [],
   "source": [
    "with open(filepath, \"r\") as file: # Read file\n",
    "    lines = file.readlines()\n",
    "\n",
    "stationCount = {}\n",
    "\n",
    "for line in lines: # looping over file\n",
    "    line = line.strip() # deleting whitespaces\n",
    "    if line.startswith(\"#\") or len(line) == 0: # comments and empty lines are ignored\n",
    "        continue\n",
    "    stationId = line.split(\",\")[0] # delimiter \",\" and variable at 1st position\n",
    "    count = stationCount.get(stationId, 0) # get for unique values of stations\n",
    "    count += 1\n",
    "    stationCount[stationId] = count # count is assigned as new value to stations (key)"
   ]
  },
  {
   "cell_type": "markdown",
   "id": "480acdba-060f-456e-b871-6f8a2e5c3399",
   "metadata": {},
   "source": [
    "# PYQGIS"
   ]
  },
  {
   "cell_type": "code",
   "execution_count": 2,
   "id": "1fbb1bdf-62f8-4c35-90d0-0fb89b3b8fe7",
   "metadata": {},
   "outputs": [
    {
     "ename": "ModuleNotFoundError",
     "evalue": "No module named 'qgis'",
     "output_type": "error",
     "traceback": [
      "\u001b[1;31m---------------------------------------------------------------------------\u001b[0m",
      "\u001b[1;31mModuleNotFoundError\u001b[0m                       Traceback (most recent call last)",
      "Cell \u001b[1;32mIn[2], line 1\u001b[0m\n\u001b[1;32m----> 1\u001b[0m \u001b[38;5;28;01mfrom\u001b[39;00m \u001b[38;5;21;01mpyqgis_scripting_ext\u001b[39;00m\u001b[38;5;21;01m.\u001b[39;00m\u001b[38;5;21;01mcore\u001b[39;00m \u001b[38;5;28;01mimport\u001b[39;00m \u001b[38;5;241m*\u001b[39m\n",
      "File \u001b[1;32m~\\anaconda3\\Lib\\site-packages\\pyqgis_scripting_ext\\core.py:1\u001b[0m\n\u001b[1;32m----> 1\u001b[0m \u001b[38;5;28;01mfrom\u001b[39;00m \u001b[38;5;21;01mqgis\u001b[39;00m\u001b[38;5;21;01m.\u001b[39;00m\u001b[38;5;21;01mcore\u001b[39;00m \u001b[38;5;28;01mimport\u001b[39;00m \u001b[38;5;241m*\u001b[39m\n\u001b[0;32m      2\u001b[0m \u001b[38;5;28;01mfrom\u001b[39;00m \u001b[38;5;21;01mqgis\u001b[39;00m\u001b[38;5;21;01m.\u001b[39;00m\u001b[38;5;21;01mgui\u001b[39;00m \u001b[38;5;28;01mimport\u001b[39;00m \u001b[38;5;241m*\u001b[39m\n\u001b[0;32m      3\u001b[0m \u001b[38;5;28;01mimport\u001b[39;00m \u001b[38;5;21;01mos\u001b[39;00m\n",
      "\u001b[1;31mModuleNotFoundError\u001b[0m: No module named 'qgis'"
     ]
    }
   ],
   "source": [
    "from pyqgis_scripting_ext.core import *"
   ]
  },
  {
   "cell_type": "markdown",
   "id": "ae8c294a-8fca-4a8e-a388-0f880c1b61f7",
   "metadata": {},
   "source": [
    "Define a Style"
   ]
  },
  {
   "cell_type": "code",
   "execution_count": null,
   "id": "4c01646d-051e-4a54-a25f-9045418c5e90",
   "metadata": {},
   "outputs": [],
   "source": [
    "pointStyle = HMarker(\"square\", 8, 45) \\\n",
    "            + HFill(\"0,255,0,128\") + HStroke(\"black\", 1) \\\n",
    "            + HLabel(\"NAME\", yoffset = -5) + HHalo(\"white\", 1)\n",
    "layer.set_style(pointStyle)"
   ]
  },
  {
   "cell_type": "markdown",
   "id": "f9f39154-537e-4e29-82ba-7b4075ce651d",
   "metadata": {},
   "source": [
    "## Creating Geometries\n",
    "### Create a point"
   ]
  },
  {
   "cell_type": "code",
   "execution_count": 1,
   "id": "e9fc4f2b-aaf7-4ced-a6f4-550d61afb66f",
   "metadata": {},
   "outputs": [
    {
     "ename": "NameError",
     "evalue": "name 'HPoint' is not defined",
     "output_type": "error",
     "traceback": [
      "\u001b[1;31m---------------------------------------------------------------------------\u001b[0m",
      "\u001b[1;31mNameError\u001b[0m                                 Traceback (most recent call last)",
      "Cell \u001b[1;32mIn[1], line 1\u001b[0m\n\u001b[1;32m----> 1\u001b[0m point \u001b[38;5;241m=\u001b[39m HPoint(\u001b[38;5;241m30.0\u001b[39m, \u001b[38;5;241m10.0\u001b[39m) \u001b[38;5;66;03m# lon, lat --> Längengrad, Breitengrad --> X, Y\u001b[39;00m\n\u001b[0;32m      2\u001b[0m \u001b[38;5;28mprint\u001b[39m(point\u001b[38;5;241m.\u001b[39masWkt())\n",
      "\u001b[1;31mNameError\u001b[0m: name 'HPoint' is not defined"
     ]
    }
   ],
   "source": [
    "point = HPoint(30.0, 10.0) # lon, lat --> Längengrad, Breitengrad --> X, Y\n",
    "print(point.asWkt()) # print as well known text"
   ]
  },
  {
   "cell_type": "markdown",
   "id": "c757672d-f1de-43c9-b2f0-264e9d30ed39",
   "metadata": {},
   "source": [
    "### Create a linestring\n",
    "More complex geometries have a fromCoords method to create\n",
    "them from a list of coordinates (pairs of floating point values):"
   ]
  },
  {
   "cell_type": "code",
   "execution_count": null,
   "id": "503a5647-064e-400a-b9c1-d16b2ac61e62",
   "metadata": {},
   "outputs": [],
   "source": [
    "coords = [[31,11], [10,30], [20,40], [40,40]] # pairs of floating point values\n",
    "\n",
    "points = []\n",
    "for coord in coords:\n",
    "    points.append(QgsPoint(coord[0], coord[1]))\n",
    "\n",
    "line = HLineString.fromCoords(coords) # line from coords"
   ]
  },
  {
   "cell_type": "markdown",
   "id": "c47d7f17-4329-4b1c-a297-8422a9c0d9c5",
   "metadata": {},
   "source": [
    "### Create a polygon\n",
    "A polygon is created using a closed linestring. This will be the\n",
    "exterior ring of the polygon."
   ]
  },
  {
   "cell_type": "code",
   "execution_count": null,
   "id": "c860af94-912e-4a21-afb4-5986668c1a8c",
   "metadata": {},
   "outputs": [],
   "source": [
    "coords = [[32,12], [10,20], [20,39], [40,39], [32,12]]\n",
    "polygon = HPolygon.fromCoords(coords)"
   ]
  },
  {
   "cell_type": "markdown",
   "id": "ac347195-8ada-4a84-af28-fe8ec22ea9c2",
   "metadata": {},
   "source": [
    "If the polygon contains holes, they can be passed as rings, i.e.\n",
    "closed linestrings:"
   ]
  },
  {
   "cell_type": "code",
   "execution_count": null,
   "id": "362c4ca2-d0a9-47df-ac0f-3508a8c570a5",
   "metadata": {},
   "outputs": [],
   "source": [
    "exteriorPoints = [[35,10],[10,20],[15,40],[45,45],[35,10]]\n",
    "holePoints = [[20,30],[35,35],[30,20],[20,30]]\n",
    "\n",
    "polygonWithHole = HPolygon.fromCoords(exteriorPoints) # Create polygon from exterior ring\n",
    "\n",
    "holeRing = HLineString.fromCoords(holePoints) # Create hole ring\n",
    "polygonWithHole.add_interior_ring(holeRing) # Add interior ring to polygon\n",
    "print(polygonWithHole.asWkt())"
   ]
  },
  {
   "cell_type": "markdown",
   "id": "b52e6aee-6b03-487f-a417-e19d4fbce58b",
   "metadata": {},
   "source": [
    "## Multi-Geometries\n",
    "### Multipoint"
   ]
  },
  {
   "cell_type": "code",
   "execution_count": null,
   "id": "30ea350b-5f2f-41c1-8811-e1b361e52873",
   "metadata": {},
   "outputs": [],
   "source": [
    "coords = [[10,40],[40,30],[20,20],[30,10]]\n",
    "multiPoints = HMultiPoint.fromCoords(coords)"
   ]
  },
  {
   "cell_type": "markdown",
   "id": "a4e8abf1-a276-4c4b-9db5-bdb14c057b52",
   "metadata": {},
   "source": [
    "### Multiline"
   ]
  },
  {
   "cell_type": "code",
   "execution_count": 5,
   "id": "104a14a9-f475-43b4-a01f-59b431872f4b",
   "metadata": {},
   "outputs": [
    {
     "ename": "NameError",
     "evalue": "name 'HMultiLineString' is not defined",
     "output_type": "error",
     "traceback": [
      "\u001b[1;31m---------------------------------------------------------------------------\u001b[0m",
      "\u001b[1;31mNameError\u001b[0m                                 Traceback (most recent call last)",
      "Cell \u001b[1;32mIn[5], line 3\u001b[0m\n\u001b[0;32m      1\u001b[0m coords1 \u001b[38;5;241m=\u001b[39m [[\u001b[38;5;241m10\u001b[39m,\u001b[38;5;241m10\u001b[39m],[\u001b[38;5;241m20\u001b[39m,\u001b[38;5;241m20\u001b[39m],[\u001b[38;5;241m10\u001b[39m,\u001b[38;5;241m40\u001b[39m]]\n\u001b[0;32m      2\u001b[0m coords2 \u001b[38;5;241m=\u001b[39m [[\u001b[38;5;241m40\u001b[39m,\u001b[38;5;241m40\u001b[39m],[\u001b[38;5;241m30\u001b[39m,\u001b[38;5;241m30\u001b[39m],[\u001b[38;5;241m40\u001b[39m,\u001b[38;5;241m20\u001b[39m],[\u001b[38;5;241m30\u001b[39m,\u001b[38;5;241m10\u001b[39m]]\n\u001b[1;32m----> 3\u001b[0m multiLine \u001b[38;5;241m=\u001b[39m HMultiLineString\u001b[38;5;241m.\u001b[39mfromCoords([coords1, coords2])\n",
      "\u001b[1;31mNameError\u001b[0m: name 'HMultiLineString' is not defined"
     ]
    }
   ],
   "source": [
    "coords1 = [[10,10],[20,20],[10,40]]\n",
    "coords2 = [[40,40],[30,30],[40,20],[30,10]]\n",
    "multiLine = HMultiLineString.fromCoords([coords1, coords2])"
   ]
  },
  {
   "cell_type": "markdown",
   "id": "4eee16fd-3f4f-4b3e-bab8-7a5c2829bed7",
   "metadata": {},
   "source": [
    "### Multipolygon"
   ]
  },
  {
   "cell_type": "code",
   "execution_count": null,
   "id": "e99311f8-29ca-43df-9097-689d05370b62",
   "metadata": {},
   "outputs": [],
   "source": [
    "coords1 = [[30,20], [10,40], [45,40], [30,20]]\n",
    "coords2 = [[15,5], [40,10], [10,20], [5,10], [15,5]]\n",
    "multiPolygon = HMultiPolygon.fromCoords([coords1, coords2])\n",
    "\n",
    "polygon1 = HPolygon.fromCoords(coords1)\n",
    "polygon1.add_interior_ring(...)\n",
    "polygon2 = HPolygon.fromCoords(coords2)\n",
    "multiPolygon = HMultiPolygon([polygon1, polygon2])"
   ]
  },
  {
   "cell_type": "markdown",
   "id": "d6ee450f-4de6-4ab9-b927-17693daf1856",
   "metadata": {},
   "source": [
    "### Subgeometries and Coordinates"
   ]
  },
  {
   "cell_type": "code",
   "execution_count": null,
   "id": "8f69f586-24e1-43fc-bd84-91728641f72f",
   "metadata": {},
   "outputs": [],
   "source": [
    "subGeometries = multiPolygon.geometries()\n",
    "for i in range(len(subGeometries)):\n",
    "    child = subGeometries[i]\n",
    "    print(f\"polygon at position {i} = {child.asWkt()}\")"
   ]
  },
  {
   "cell_type": "code",
   "execution_count": null,
   "id": "ed5c7c4f-e246-47e0-9f94-67786949cfbb",
   "metadata": {},
   "outputs": [],
   "source": [
    "for i, coordinate in enumerate(polygon.coordinates()):\n",
    "    print(f\"coord {i}) x={coordinate[0]}, y={coordinate[1]}\")\n",
    "for i, coordinate in enumerate(line.coordinates()):\n",
    "    print(f\"coord {i}) x={coordinate[0]}, y={coordinate[1]}\")"
   ]
  },
  {
   "cell_type": "markdown",
   "id": "cb6f795b-6d51-43fd-9bc2-1704d55ce251",
   "metadata": {},
   "source": [
    "## Create Geometries from WKT"
   ]
  },
  {
   "cell_type": "code",
   "execution_count": null,
   "id": "d9e0853b-eac8-4dc5-a855-974420e5de3f",
   "metadata": {},
   "outputs": [],
   "source": [
    "wkt = \"POINT (156 404)\"\n",
    "pointGeom = HGeometry.fromWkt(wkt)\n",
    "\n",
    "wkt = \"\"\"\n",
    "MULTIPOLYGON (((130 510, 140 450, 200 480, 210 570, 150 630, 130 560, 130 510)),\n",
    "((430 770, 370 820, 210 860, 20 760, 35 631, 100 370, 108 363, 154 284, 230 380,\n",
    "140 400, 150 440, 130 450, 104 585, 410 670, 440 590, 450 590, 430 770)))\n",
    "\"\"\"\n",
    "polygonGeom = HGeometry.fromWkt(wkt)"
   ]
  },
  {
   "cell_type": "markdown",
   "id": "82d3fc03-f91a-41f4-8721-7e24f7e943d3",
   "metadata": {},
   "source": [
    "## Check type of Variable"
   ]
  },
  {
   "cell_type": "code",
   "execution_count": null,
   "id": "069f7b86-1626-460f-a127-f6cf9bc4c331",
   "metadata": {},
   "outputs": [],
   "source": [
    "firstGeom = multiPolygon.geometries()[0]\n",
    "print(f\"Geometry type: {type(firstGeom)}\") # type function\n",
    "\n",
    "if isinstance(firstGeom, HPolygon): # as part of a script, against a class\n",
    "    print(f\"It indeed is a Polygon!\")"
   ]
  },
  {
   "cell_type": "markdown",
   "id": "1cdb217d-6b34-4e4a-aedb-3132645b4b66",
   "metadata": {},
   "source": [
    "# MAP CANVAS, TEST SET"
   ]
  },
  {
   "cell_type": "code",
   "execution_count": null,
   "id": "260cd9af-c6dc-4338-9076-2a09f2e7f733",
   "metadata": {},
   "outputs": [],
   "source": [
    "g1 = HPolygon.fromCoords([[0, 0], [0, 5], [5, 5], [5, 0], [0, 0]])\n",
    "g2 = HPolygon.fromCoords([[5, 0], [5, 2], [7, 2], [7, 0], [5, 0]])\n",
    "g3 = HPoint(4, 1)\n",
    "g4 = HPoint(5, 4)\n",
    "g5 = HLineString.fromCoords([[1, 0], [1, 6]])\n",
    "g6 = HPolygon.fromCoords([[3, 3], [3, 6], [6, 6], [6, 3], [3, 3]])"
   ]
  },
  {
   "cell_type": "code",
   "execution_count": null,
   "id": "f7443da7-f8c2-4307-9933-7a6afbe35b19",
   "metadata": {},
   "outputs": [],
   "source": [
    "canvas = HMapCanvas.new() # Define the new canvas\n",
    "\n",
    "canvas.add_geometry(g1, 'black', 3)\n",
    "canvas.add_geometry(g2, 'magenta', 3)\n",
    "canvas.add_geometry(g6, 'orange', 3)\n",
    "canvas.add_geometry(g5, 'green', 3)\n",
    "canvas.add_geometry(g3, 'blue', 10)\n",
    "canvas.add_geometry(g4, 'red', 10)\n",
    "canvas.set_extent([-1, -1, 8, 8])\n",
    "\n",
    "canvas.show() # Show output"
   ]
  },
  {
   "cell_type": "markdown",
   "id": "9551ffe6-ef63-44b4-937d-174f86ab7aca",
   "metadata": {},
   "source": [
    "## Envelope of geometry, bbox"
   ]
  },
  {
   "cell_type": "code",
   "execution_count": null,
   "id": "6ee7dec2-c7d7-4ae3-9abc-5d7b26a5a4c2",
   "metadata": {},
   "outputs": [],
   "source": [
    "print(\"polygon bbox:\", g1.bbox())"
   ]
  },
  {
   "cell_type": "markdown",
   "id": "35747f33-a751-4a20-be9d-002e7c4d907b",
   "metadata": {},
   "source": [
    "## Length, area and distance"
   ]
  },
  {
   "cell_type": "code",
   "execution_count": null,
   "id": "4feb74d3-83fb-4dd1-bd95-1e3a59a7c7f7",
   "metadata": {},
   "outputs": [],
   "source": [
    "print(\"polygon length:\", g1.length()) # perimeter\n",
    "print(\"polygon area:\", g1.area())\n",
    "\n",
    "print(\"distance between line and point:\", g5.distance(g4)) # planar distance between two nearest points"
   ]
  },
  {
   "cell_type": "markdown",
   "id": "ff6620a1-22f7-41fa-9c88-e05b5aa6ba3e",
   "metadata": {},
   "source": [
    "## Predicates\n",
    "### Intersects, touches, contains"
   ]
  },
  {
   "cell_type": "code",
   "execution_count": null,
   "id": "456e179f-7573-4f43-9c47-6b54db684feb",
   "metadata": {},
   "outputs": [],
   "source": [
    "print(g1.intersects(g2)) # Geometries that touch also intersect\n",
    "print(g1.touches(g2)) # Geometries have at least one point in common; interiors do not intersect\n",
    "print(g1.contains(g2)) # Contain; not a border touch"
   ]
  },
  {
   "cell_type": "markdown",
   "id": "d48583b0-72fe-4eb1-8de8-dea6972d7e5f",
   "metadata": {},
   "source": [
    "## Functions\n",
    "### Intersection, Symdifference, Combine, Difference, Buffer"
   ]
  },
  {
   "cell_type": "code",
   "execution_count": null,
   "id": "2635477b-0529-460b-9601-3b2bc3067490",
   "metadata": {},
   "outputs": [],
   "source": [
    "print(g1.intersection(g2)) # touching polygons --> line\n",
    "print(g1.intersection(g3)) # polygon and point --> point\n",
    "print(g1.intersection(g5)) # polygon and line --> line\n",
    "\n",
    "print(g1.symdifference(g6)) # intersecting polygons -> multipolygon\n",
    "print(g1.symdifference(g2)) # touching polygons -> polygons union\n",
    "print(g1.symdifference(g3)) # polygon with a contained point -> original polygon\n",
    "print(g1.symdifference(g5)) # polygon with a line -> hybrid collection (line + polygon)\n",
    "\n",
    "print(g1.union(g6)) # intersecting polygons -> polygon\n",
    "print(g1.union(g2)) # same for the union of touching polygons\n",
    "print(g1.union(g3)) # polygon with contained point -> original polygon\n",
    "print(g1.union(g5)) # polygon and line -> hybrid collection (line + polygon)\n",
    "\n",
    "\n",
    "print(g1.difference(g6)) # this returns g1 minus the overlapping part of g6\n",
    "print(g6.difference(g1)) # while this returns g6 minus the overlapping part of g1\n",
    "print(g1.difference(g5)) # in the case of difference with lines -> original polygon + additional points in the intersections\n",
    "print(g1.difference(g3)) # the difference of polygon and point -> original polygon\n",
    "\n",
    "b1 = g3.buffer(1.0) # the buffer of a point\n",
    "b2 = g3.buffer(1.0, 1) # the buffer of a point with few quandrant segments\n",
    "b3 = g5.buffer(1.0) # line buffer\n",
    "b4 = g5.buffer(1.0, 2) # line buffer with few points, square end cap style (flat, square, round)\n",
    "b5 = g5.buffer(1.0, -1, JOINSTYLE_ROUND, ENDCAPSTYLE_SQUARE)"
   ]
  },
  {
   "cell_type": "markdown",
   "id": "53d680ad-47a5-4f3b-869e-94a4ff11eebd",
   "metadata": {},
   "source": [
    "### Convex hull"
   ]
  },
  {
   "cell_type": "code",
   "execution_count": 8,
   "id": "f544a897-73a1-4522-a5c7-d8dbf3ba9db8",
   "metadata": {},
   "outputs": [
    {
     "ename": "NameError",
     "evalue": "name 'HGeometryCollection' is not defined",
     "output_type": "error",
     "traceback": [
      "\u001b[1;31m---------------------------------------------------------------------------\u001b[0m",
      "\u001b[1;31mNameError\u001b[0m                                 Traceback (most recent call last)",
      "Cell \u001b[1;32mIn[8], line 1\u001b[0m\n\u001b[1;32m----> 1\u001b[0m collection \u001b[38;5;241m=\u001b[39m HGeometryCollection([g1, g2, g3, g4, g5, g6])\n\u001b[0;32m      2\u001b[0m convexhull \u001b[38;5;241m=\u001b[39m collection\u001b[38;5;241m.\u001b[39mconvex_hull()\n",
      "\u001b[1;31mNameError\u001b[0m: name 'HGeometryCollection' is not defined"
     ]
    }
   ],
   "source": [
    "collection = HGeometryCollection([g1, g2, g3, g4, g5, g6])\n",
    "convexhull = collection.convex_hull()"
   ]
  },
  {
   "cell_type": "markdown",
   "id": "b90c55c7-58a2-4941-97de-4e73748c091e",
   "metadata": {},
   "source": [
    "# PROJECTIONS"
   ]
  },
  {
   "cell_type": "code",
   "execution_count": null,
   "id": "a8696e4f-c649-4fc0-acdd-b6dd099a7cca",
   "metadata": {},
   "outputs": [],
   "source": [
    "crsHelper = HCrs() # Create the CRS helper\n",
    "crsHelper.from_srid(4326) # from\n",
    "crsHelper.to_srid(32632) # to\n",
    "\n",
    "point4326 = HPoint(11, 46)\n",
    "point32632 = crsHelper.transform(point4326) # Transform\n",
    "backTo4326 = crsHelper.transform(point32632, inverse = True) # Reverse transformation"
   ]
  },
  {
   "cell_type": "markdown",
   "id": "3af73398-01d5-484d-b554-7451ab0675cf",
   "metadata": {},
   "source": [
    "# LIFESAVER MAP"
   ]
  },
  {
   "cell_type": "code",
   "execution_count": 11,
   "id": "99caf8eb-e17d-4fd6-a08a-e0161e59d50f",
   "metadata": {},
   "outputs": [
    {
     "ename": "NameError",
     "evalue": "name 'HMap' is not defined",
     "output_type": "error",
     "traceback": [
      "\u001b[1;31m---------------------------------------------------------------------------\u001b[0m",
      "\u001b[1;31mNameError\u001b[0m                                 Traceback (most recent call last)",
      "Cell \u001b[1;32mIn[11], line 1\u001b[0m\n\u001b[1;32m----> 1\u001b[0m osm \u001b[38;5;241m=\u001b[39m HMap\u001b[38;5;241m.\u001b[39mget_osm_layer() \u001b[38;5;66;03m# get OSM Layer\u001b[39;00m\n\u001b[0;32m      2\u001b[0m HMap\u001b[38;5;241m.\u001b[39madd_layer(osm) \u001b[38;5;66;03m# Add layer to current map\u001b[39;00m\n\u001b[0;32m      3\u001b[0m HMap\u001b[38;5;241m.\u001b[39mremove_layers_by_name([\u001b[38;5;124m\"\u001b[39m\u001b[38;5;124mOpenStreetMap\u001b[39m\u001b[38;5;124m\"\u001b[39m, \u001b[38;5;124m\"\u001b[39m\u001b[38;5;124mother map\u001b[39m\u001b[38;5;124m\"\u001b[39m])\n",
      "\u001b[1;31mNameError\u001b[0m: name 'HMap' is not defined"
     ]
    }
   ],
   "source": [
    "osm = HMap.get_osm_layer() # get OSM Layer\n",
    "HMap.add_layer(osm) # Add layer to current map\n",
    "HMap.remove_layers_by_name([\"OpenStreetMap\", \"other map\"]) # remove layers"
   ]
  },
  {
   "cell_type": "markdown",
   "id": "de4065a9-84c2-4173-bd4a-b4bf43fd56ba",
   "metadata": {},
   "source": [
    "# READING AN EXISTING GPKG LAYER"
   ]
  },
  {
   "cell_type": "code",
   "execution_count": null,
   "id": "000b19c2-1d8c-47ee-a0c4-9f2f5b206053",
   "metadata": {},
   "outputs": [],
   "source": [
    "folder = \"....\\\" # Define folder path\n",
    "geopackagePath = folder + \"natural_earth_vector.gpkg\"\n",
    "\n",
    "countriesName = \"ne_50m_admin_0_countries\"\n",
    "countriesLayer = HVectorLayer.open(geopackagePath, countriesName) # open\n",
    "\n",
    "print(\"Schema (first 4 fields):\")\n",
    "counter = 0\n",
    "for name, type in countriesLayer.fields.items():\n",
    "    counter = counter + 1\n",
    "    if counter < 5:\n",
    "        print(\"\\t\", name, \"of type\", type)        "
   ]
  },
  {
   "cell_type": "code",
   "execution_count": null,
   "id": "f257c2be-a2ba-47dd-a36a-3bd7e9e3243d",
   "metadata": {},
   "outputs": [],
   "source": [
    "crs = countriesLayer.prjcode\n",
    "print(\"Projection: \", crs)\n",
    "print(\"Spatial extent: \", countriesLayer.bbox())\n",
    "print(\"Feature count: \", countriesLayer.size())"
   ]
  },
  {
   "cell_type": "code",
   "execution_count": null,
   "id": "dfa28fb5-e13c-4f90-9c93-e351c2de047d",
   "metadata": {},
   "outputs": [],
   "source": [
    "print(\"Attributes for Italy:\")\n",
    "countriesFeatures = countriesLayer.features() # Get features iterator\n",
    "nameIndex = countriesLayer.field_index(\"NAME\") # Index of field name\n",
    "fieldNames = countriesLayer.field_names # Get all fields names\n",
    "\n",
    "for feature in countriesFeatures: \n",
    "    if feature.attributes[nameIndex] == 'Italy': # Access attributes by their index\n",
    "        geom = feature.geometry # get the geometry\n",
    "        print(\"GEOM:\", geom.asWkt()[:50] + \"...\")\n",
    "        count = 0\n",
    "        for index, attribute in enumerate(feature.attributes):\n",
    "            print(fieldNames[index] + \":\", attribute)\n",
    "            count += 1\n",
    "            if count > 5:\n",
    "                print(\"...\")\n",
    "                break"
   ]
  },
  {
   "cell_type": "markdown",
   "id": "1439769c-81b5-41a9-ab34-9068656b103c",
   "metadata": {},
   "source": [
    "# FILTERS USING EXPRESSIONS\n",
    "https://docs.qgis.org/3.28/en/docs/user_manual/expressions/functions_list.html"
   ]
  },
  {
   "cell_type": "code",
   "execution_count": null,
   "id": "5a1ab84d-25de-4d66-b5d0-e1985978d7e0",
   "metadata": {},
   "outputs": [],
   "source": [
    "expression = \"NAME like 'I%' and POP_EST > 30000000\" # Filter features with \"I\" and population\n",
    "features = countriesLayer.features(expression) # Apply filter\n",
    "count = 0 # Initialize count\n",
    "\n",
    "for feature in features:\n",
    "    print(feature.attributes[nameIndex])\n",
    "    count+=1"
   ]
  },
  {
   "cell_type": "markdown",
   "id": "ef71baae-03ac-4514-9119-5ded3a258e2d",
   "metadata": {},
   "source": [
    "## BBOX Filter\n",
    "A BBOX filter can be create using a QgsRectangle. This can be used\n",
    "for example to find cities within a \"radius\" of 200 km (~ 2 degrees)\n",
    "from Trento:"
   ]
  },
  {
   "cell_type": "code",
   "execution_count": null,
   "id": "bb203316-bfe5-444d-8845-93c3213b5513",
   "metadata": {},
   "outputs": [],
   "source": [
    "lon = 11.119982\n",
    "lat = 46.080428\n",
    "point = HPoint(lon, lat)\n",
    "buffer = point.buffer(2)\n",
    "citiesLayer = HVectorLayer.open(geopackagePath, citiesName)\n",
    "HMap.add_layer(citiesLayer)\n",
    "\n",
    "citiyNameIndex = citiesLayer.field_index(\"NAME\")\n",
    "print(\"\\napply bbox filter on features\")\n",
    "aoi = buffer.bbox()\n",
    "count = 0\n",
    "\n",
    "for feature in citiesLayer.features(bbox=aoi): # filter by bbox; bbox as object of features\n",
    "    print(feature.attributes[citiyNameIndex])\n",
    "    count += 1"
   ]
  },
  {
   "cell_type": "markdown",
   "id": "110fcaf5-4a41-4561-b9b1-9a1b01dae4e9",
   "metadata": {},
   "source": [
    "## Exact Geometry Filter\n",
    "In pyQGIS there is no way to create an exact geometry filter.\n",
    "Therefore, to have an exact filter, two steps are necessary. Apply the\n",
    "bbox filter to the datasource (important for remote databases), and\n",
    "then check for intersection on the resulting features. The extension\n",
    "do that transparently for you:"
   ]
  },
  {
   "cell_type": "code",
   "execution_count": null,
   "id": "8704efc8-6266-418d-a98f-31d233d166d5",
   "metadata": {},
   "outputs": [],
   "source": [
    "for feature in citiesLayer.features(geometryfilter=buffer): # Filter by geometry with geometry object as features method\n",
    "    print(feature.attributes[citiyNameIndex])"
   ]
  },
  {
   "cell_type": "markdown",
   "id": "73d7b29e-35df-4b63-8523-fd2c8460c02d",
   "metadata": {},
   "source": [
    "# IN-MEMORY VECTOR LAYER\n",
    "One good way to start when creating new data, is the creation of a\n",
    "memory layer. This won’t write any data on disk, until you tell it to\n",
    "do so.\n",
    "The first thing to define when creating a new dataset, is its schema,\n",
    "i.e. its fields and datatypes (possible types are string, integer,\n",
    "double).\n",
    "This is naturally done using a dictionary:"
   ]
  },
  {
   "cell_type": "code",
   "execution_count": null,
   "id": "b596b01f-5fce-4eb8-aa70-2dbf4187741f",
   "metadata": {},
   "outputs": [],
   "source": [
    "fields = {\n",
    "    \"id\": \"Integer\",\n",
    "    \"name\": \"String\",\n",
    "}\n",
    "\n",
    "just2citiesLayer = HVectorLayer.new(\"test\", \"Point\", \"EPSG:4326\", fields) # defined structure\n",
    "just2citiesLayer.add_feature(HPoint(-122.42, 37.78), [1, \"San Francisco\"]) # adding features\n",
    "just2citiesLayer.add_feature(HPoint(-73.98, 40.47), [2, \"New York\"])"
   ]
  },
  {
   "cell_type": "markdown",
   "id": "c4b7b475-5926-499f-882c-7cf40323ba78",
   "metadata": {},
   "source": [
    "# CREATE A NEW GEOPACKAGE"
   ]
  },
  {
   "cell_type": "code",
   "execution_count": null,
   "id": "a69c2351-a5b8-45c9-ab57-7007e72dbd1e",
   "metadata": {},
   "outputs": [],
   "source": [
    "path = folder + \"test.gpkg\"\n",
    "error = just2citiesLayer.dump_to_gpkg(path, overwrite=True) # Dump the layer to geopackage\n",
    "if(error):\n",
    "    print(error) # Print out any error, if\n",
    "HMap.add_layer(just2citiesLayer)"
   ]
  },
  {
   "cell_type": "code",
   "execution_count": null,
   "id": "194e58eb-8b87-4855-8d0c-a087376baafa",
   "metadata": {},
   "outputs": [],
   "source": [
    "fields = {\n",
    "    \"name\": \"String\",\n",
    "    \"population\": \"Integer\",\n",
    "    \"lat\": \"double\",\n",
    "    \"lon\": \"double\"\n",
    "    }\n",
    "\n",
    "oneCityMoreAttributes = HVectorLayer.new(\"test2\", \"Point\", \"EPSG:4326\", fields)\n",
    "oneCityMoreAttributes.add_feature(HPoint(-73.98, 40.47), [\"New York\", 19040000, 40.47, -73.98])\n",
    "\n",
    "path = folder + \"test2.gpkg\"\n",
    "\n",
    "error = oneCityMoreAttributes.dump_to_gpkg(path, overwrite=True)\n",
    "\n",
    "if(error):\n",
    "    print(error)"
   ]
  },
  {
   "cell_type": "markdown",
   "id": "607fb95d-a632-42cd-b6a0-7e2302b44bad",
   "metadata": {},
   "source": [
    "# STYLE"
   ]
  },
  {
   "cell_type": "markdown",
   "id": "c3d2b8c8-c0b6-4e80-a150-949bb06f25f5",
   "metadata": {},
   "source": [
    "## Point Style"
   ]
  },
  {
   "cell_type": "code",
   "execution_count": null,
   "id": "c91cc73c-23ee-4106-84a6-53720128730d",
   "metadata": {},
   "outputs": [],
   "source": [
    "citiesLayer.subset_filter(\"SOV0NAME='Italy'\") # Filter Italian cities\n",
    "citiesLayer.set_style(pointStyle) # Apply style to layer\n",
    "\n",
    "field = \"NAME\"\n",
    "pointStyle += HLabel(field, yoffset = -5) + HHalo(\"red\", 1) # Default Label"
   ]
  },
  {
   "cell_type": "code",
   "execution_count": null,
   "id": "91365a79-61bf-4332-8695-a38b1b113997",
   "metadata": {},
   "outputs": [],
   "source": [
    "labelProperties = {\n",
    "    \"font\": \"Arial\",\n",
    "    \"color\": 'black',\n",
    "    \"size\": 10,\n",
    "    \"field\": field,\n",
    "    \"xoffset\": 0.0,\n",
    "    \"yoffset\": -5\n",
    "    }\n",
    "\n",
    "pointStyle += HLabel(**labelProperties) + HHalo(\"white\", 1) # Adding labels to pointStyle"
   ]
  },
  {
   "cell_type": "markdown",
   "id": "e7b67029-a18b-48a0-a5db-a0f2802c517a",
   "metadata": {},
   "source": [
    "## Conditional labelling"
   ]
  },
  {
   "cell_type": "code",
   "execution_count": null,
   "id": "35b4cc76-9bb3-4d02-8686-90b448de2a9c",
   "metadata": {},
   "outputs": [],
   "source": [
    "if( condition, result if true, result if false)\n",
    "field = \"if(POP_MAX>1000000,concat(NAME,'(',round(POP_MAX/1000000,1),')'),NAME)\""
   ]
  },
  {
   "cell_type": "markdown",
   "id": "0c978e55-2309-40e8-80b4-cc37d6845377",
   "metadata": {},
   "source": [
    "## Polygon Style"
   ]
  },
  {
   "cell_type": "code",
   "execution_count": null,
   "id": "82f6f12e-7a09-46e6-830a-cc3bb36ae3db",
   "metadata": {},
   "outputs": [],
   "source": [
    "countriesLayer.subset_filter(\"NAME='Italy'\")\n",
    "polygonStyle = HFill('0,255,0,128') + HStroke('0,255,0,255', 2) # define opacity and stroke\n",
    "countriesLayer.set_style(polygonStyle)"
   ]
  },
  {
   "cell_type": "markdown",
   "id": "c942ed1d-85a5-460f-95fb-6b21fccc3f50",
   "metadata": {},
   "source": [
    "## Line Style with labelling\n",
    "The rivers layer doesn’t have an attribute to extract the rivers in\n",
    "Italy. We will need an intersection filter. The sub_layer function\n",
    "allows to extract a sublayer based on a geometry filter. It is also\n",
    "possible to define which fields of the original layer to keep."
   ]
  },
  {
   "cell_type": "code",
   "execution_count": 16,
   "id": "e324eb6a-71fb-4384-99b7-3293be886321",
   "metadata": {},
   "outputs": [
    {
     "ename": "NameError",
     "evalue": "name 'riversLayer' is not defined",
     "output_type": "error",
     "traceback": [
      "\u001b[1;31m---------------------------------------------------------------------------\u001b[0m",
      "\u001b[1;31mNameError\u001b[0m                                 Traceback (most recent call last)",
      "Cell \u001b[1;32mIn[16], line 1\u001b[0m\n\u001b[1;32m----> 1\u001b[0m riversItalyLayer \u001b[38;5;241m=\u001b[39m riversLayer\u001b[38;5;241m.\u001b[39msub_layer(italyFeatures[\u001b[38;5;241m0\u001b[39m]\u001b[38;5;241m.\u001b[39mgeometry, \u001b[38;5;124m\"\u001b[39m\u001b[38;5;124mrivers_italy\u001b[39m\u001b[38;5;124m\"\u001b[39m, [\u001b[38;5;124m'\u001b[39m\u001b[38;5;124mscalerank\u001b[39m\u001b[38;5;124m'\u001b[39m, \u001b[38;5;124m'\u001b[39m\u001b[38;5;124mname\u001b[39m\u001b[38;5;124m'\u001b[39m])\n\u001b[0;32m      2\u001b[0m HMap\u001b[38;5;241m.\u001b[39madd_layer(riversItalyLayer)\n",
      "\u001b[1;31mNameError\u001b[0m: name 'riversLayer' is not defined"
     ]
    }
   ],
   "source": [
    "riversItalyLayer = riversLayer.sub_layer(italyFeatures[0].geometry, \"rivers_italy\", ['scalerank', 'name'])\n",
    "riversStyle = HStroke('0,0,255,255', 2)\n",
    "\n",
    "riversItalyLayer.set_style(riversStyle)\n",
    "\n",
    "labelProperties = {\n",
    "    \"font\": \"Arial\",\n",
    "    \"color\": 'red',\n",
    "    \"size\": 14,\n",
    "    \"field\": 'name',\n",
    "    \"along_line\": True, # Label follows direction of line\n",
    "    \"bold\": True,\n",
    "    \"italic\": False\n",
    "}\n",
    "labelStyle = HLabel(**labelProperties) + HHalo(\"white\", 1)\n",
    "riversStyle = HStroke('0,0,255,255', 2) + labelStyle\n",
    "\n",
    "HMap.add_layer(riversItalyLayer)"
   ]
  },
  {
   "cell_type": "markdown",
   "id": "fa809eb7-25d3-4a1e-83b1-13d5bbe99d74",
   "metadata": {},
   "source": [
    "## Advanced styling, graduated"
   ]
  },
  {
   "cell_type": "code",
   "execution_count": null,
   "id": "b257f387-a8e6-4fbf-a9a5-624e7aea4b1a",
   "metadata": {},
   "outputs": [],
   "source": [
    "ranges = [\n",
    "    [0, 0],\n",
    "    [1, 5],\n",
    "    [6, 8],\n",
    "    [8, 9],\n",
    "    [10, 11]\n",
    "]\n",
    "styles = [\n",
    "    HStroke('0,0,255,255', 7),\n",
    "    HStroke('0,0,255,255', 5),\n",
    "    HStroke('0,0,255,255', 3),\n",
    "    HStroke('0,0,255,255', 2),\n",
    "    HStroke('0,0,255,255', 1),\n",
    "]\n",
    "\n",
    "riversItalyLayer.set_graduated_style('scalerank', ranges, styles, labelStyle)"
   ]
  },
  {
   "cell_type": "markdown",
   "id": "aaf26fe8-558c-4480-b024-c2b6fe2fd901",
   "metadata": {},
   "source": [
    "# PRINTING DATA TO IMAGE AND PAPER"
   ]
  },
  {
   "cell_type": "code",
   "execution_count": null,
   "id": "fe34fcd3-4bce-4d2c-8e8d-ea4175841034",
   "metadata": {},
   "outputs": [],
   "source": [
    "printer = HPrinter(iface)\n",
    "\n",
    "mapProperties = {\n",
    "    \"x\": 5, # Define paper position and size in mm\n",
    "    \"y\": 25,\n",
    "    \"width\": 285,\n",
    "    \"height\": 180,\n",
    "    \"frame\": True, # Add a frame around the map and add map object to layout\n",
    "    \"extent\": [10, 44, 12, 46] # Set extent\n",
    "}\n",
    "printer.add_map(**mapProperties)\n",
    "\n",
    "labelProperties = {\n",
    "    \"x\": 120,\n",
    "    \"y\": 10,\n",
    "    \"text\": \"Such a nice map!\",\n",
    "    \"font_size\": 28,\n",
    "    \"bold\": True,\n",
    "    \"italic\": False\n",
    "}\n",
    "printer.add_label(**labelProperties) # Add label to the map\n",
    "\n",
    "legendProperties = {\n",
    "    \"x\": 215,\n",
    "    \"y\": 30,\n",
    "    \"width\": 150,\n",
    "    \"height\": 100,\n",
    "    \"frame\": True,\n",
    "    \"max_symbol_size\": 3\n",
    "}\n",
    "printer.add_legend(**legendProperties) # Add legend to the map\n",
    "\n",
    "scalebarProperties = {\n",
    "    \"x\": 10,\n",
    "    \"y\": 190,\n",
    "    \"units\": \"km\",\n",
    "    \"segments\": 4,\n",
    "    \"unit_per_segment\": 10,\n",
    "    \"style\": \"Single Box\", # or 'Line Ticks Up'\n",
    "    \"font_size\": 12\n",
    "}\n",
    "printer.add_scalebar(**scalebarProperties) # Add scalebar\n",
    "\n"
   ]
  },
  {
   "cell_type": "code",
   "execution_count": null,
   "id": "29b41386-30e7-40bb-8238-95ed7be0d63a",
   "metadata": {},
   "outputs": [],
   "source": [
    "path = \".\\test.pdf\" # Print to PDF\n",
    "printer.dump_to_pdf(path)\n",
    "\n",
    "path = \".\\test.png\" # Print to png\n",
    "printer.dump_to_image(path)"
   ]
  }
 ],
 "metadata": {
  "kernelspec": {
   "display_name": "Python 3 (ipykernel)",
   "language": "python",
   "name": "python3"
  },
  "language_info": {
   "codemirror_mode": {
    "name": "ipython",
    "version": 3
   },
   "file_extension": ".py",
   "mimetype": "text/x-python",
   "name": "python",
   "nbconvert_exporter": "python",
   "pygments_lexer": "ipython3",
   "version": "3.11.7"
  }
 },
 "nbformat": 4,
 "nbformat_minor": 5
}
